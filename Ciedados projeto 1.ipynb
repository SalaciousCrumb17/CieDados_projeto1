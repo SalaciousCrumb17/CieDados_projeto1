{
 "cells": [
  {
   "cell_type": "markdown",
   "metadata": {},
   "source": [
    "# Ciência dos Dados - Projeto 1\n",
    "Lucas Ohara"
   ]
  },
  {
   "cell_type": "markdown",
   "metadata": {},
   "source": [
    "# Pergunta a ser respondida\n",
    "\n",
    "Países Sul-Americanos paricipantes do Mercosul tem taxa de exportação mais elevada que aqueles que não participam do bloco? Ainda, considerando que as exportações de produto primário são grande parte das exportações Sul-Americanas, países com taxa de exportação elevada possuem menor IDH?"
   ]
  },
  {
   "cell_type": "markdown",
   "metadata": {},
   "source": [
    "# Explicação\n",
    "O mercosul é o bloco econômico Sul-Americano composto por Brasil, Paraguay, Uruguay, Venezuela e Argentina. Configura-se como uma  união aduaneira, na qual há livre comércio intrazona e política comercial comum entre os países-membros, um grande facilitador para relações comerciais com os mesmos. A vasta exportação de produtos primários proveniente de países Mercosul é responsável por boa parte do comércio internacional dos mesmos. Por exemplo, os países do Mercosul formam o maior bloco exportador de alimentos no mundo. Porém, países com alta taxa de exportação de produtos do setor primário e baixa taxa de exportação de produtos do setor secundário indicam baixo desenvolvimento tecnológico da indústria. \n",
    "Perante isso, a análise a ser realizada consiste na investigação dos dados recolhidos, baseada na hipótese:"
   ]
  },
  {
   "cell_type": "markdown",
   "metadata": {},
   "source": [
    "# Pergunta a ser respondida\n",
    "\n",
    "Países Sul-Americanos paricipantes do Mercosul tem taxa de exportação mais elevada que aqueles que não participam do bloco? Ainda, considerando que as exportações de produto primário são grande parte das exportações Sul-Americanas, países com taxa de exportação elevada possuem menor IDH?"
   ]
  },
  {
   "cell_type": "markdown",
   "metadata": {},
   "source": [
    "# Dados\n",
    "\n",
    "https://www.gapminder.org/data/ , palavras chave: \"HDI\", \"Exports (p of GDP)\"\n",
    "\n",
    "http://www.mercosul.gov.br/saiba-mais-sobre-o-mercosul\n"
   ]
  },
  {
   "cell_type": "code",
   "execution_count": 81,
   "metadata": {},
   "outputs": [],
   "source": [
    "%matplotlib inline\n",
    "import pandas as pd\n",
    "import matplotlib.pyplot as plt\n",
    "import os\n",
    "#imporatndo bibliotecas"
   ]
  },
  {
   "cell_type": "markdown",
   "metadata": {},
   "source": [
    "Dados do IDH de países Sul-Americanos"
   ]
  },
  {
   "cell_type": "code",
   "execution_count": 82,
   "metadata": {},
   "outputs": [
    {
     "data": {
      "text/html": [
       "<div>\n",
       "<style scoped>\n",
       "    .dataframe tbody tr th:only-of-type {\n",
       "        vertical-align: middle;\n",
       "    }\n",
       "\n",
       "    .dataframe tbody tr th {\n",
       "        vertical-align: top;\n",
       "    }\n",
       "\n",
       "    .dataframe thead th {\n",
       "        text-align: right;\n",
       "    }\n",
       "</style>\n",
       "<table border=\"1\" class=\"dataframe\">\n",
       "  <thead>\n",
       "    <tr style=\"text-align: right;\">\n",
       "      <th></th>\n",
       "      <th>country</th>\n",
       "      <th>2005</th>\n",
       "    </tr>\n",
       "  </thead>\n",
       "  <tbody>\n",
       "    <tr>\n",
       "      <th>0</th>\n",
       "      <td>Argentina</td>\n",
       "      <td>0.765</td>\n",
       "    </tr>\n",
       "    <tr>\n",
       "      <th>1</th>\n",
       "      <td>Bolivia</td>\n",
       "      <td>0.649</td>\n",
       "    </tr>\n",
       "    <tr>\n",
       "      <th>2</th>\n",
       "      <td>Brazil</td>\n",
       "      <td>0.692</td>\n",
       "    </tr>\n",
       "    <tr>\n",
       "      <th>3</th>\n",
       "      <td>Chile</td>\n",
       "      <td>0.779</td>\n",
       "    </tr>\n",
       "    <tr>\n",
       "      <th>4</th>\n",
       "      <td>Colombia</td>\n",
       "      <td>0.675</td>\n",
       "    </tr>\n",
       "    <tr>\n",
       "      <th>5</th>\n",
       "      <td>Ecuador</td>\n",
       "      <td>0.695</td>\n",
       "    </tr>\n",
       "    <tr>\n",
       "      <th>6</th>\n",
       "      <td>Paraguay</td>\n",
       "      <td>0.635</td>\n",
       "    </tr>\n",
       "    <tr>\n",
       "      <th>7</th>\n",
       "      <td>Peru</td>\n",
       "      <td>0.691</td>\n",
       "    </tr>\n",
       "    <tr>\n",
       "      <th>8</th>\n",
       "      <td>Uruguay</td>\n",
       "      <td>0.748</td>\n",
       "    </tr>\n",
       "    <tr>\n",
       "      <th>9</th>\n",
       "      <td>Venezuela</td>\n",
       "      <td>0.692</td>\n",
       "    </tr>\n",
       "    <tr>\n",
       "      <th>10</th>\n",
       "      <td>Guyana</td>\n",
       "      <td>0.606</td>\n",
       "    </tr>\n",
       "    <tr>\n",
       "      <th>11</th>\n",
       "      <td>Suriname</td>\n",
       "      <td>0.659</td>\n",
       "    </tr>\n",
       "  </tbody>\n",
       "</table>\n",
       "</div>"
      ],
      "text/plain": [
       "      country   2005\n",
       "0   Argentina  0.765\n",
       "1     Bolivia  0.649\n",
       "2      Brazil  0.692\n",
       "3       Chile  0.779\n",
       "4    Colombia  0.675\n",
       "5     Ecuador  0.695\n",
       "6    Paraguay  0.635\n",
       "7        Peru  0.691\n",
       "8     Uruguay  0.748\n",
       "9   Venezuela  0.692\n",
       "10     Guyana  0.606\n",
       "11   Suriname  0.659"
      ]
     },
     "execution_count": 82,
     "metadata": {},
     "output_type": "execute_result"
    }
   ],
   "source": [
    "dados_DKM = pd.read_excel('Indicator_HDI.xlsx')\n",
    "dados_IDH = dados_DKM.loc[:,[\"country\",(2005)]]\n",
    "dados_IDH.head(12)\n",
    "#leitura dos dados de IDH"
   ]
  },
  {
   "cell_type": "code",
   "execution_count": 83,
   "metadata": {},
   "outputs": [
    {
     "data": {
      "image/png": "[encoded data removed]",
      "text/plain": [
       "<Figure size 432x432 with 1 Axes>"
      ]
     },
     "metadata": {
      "needs_background": "light"
     },
     "output_type": "display_data"
    }
   ],
   "source": [
    "plot = dados_IDH.plot(kind='bar',title='HDI',figsize=(6, 6),)\n",
    "plt.ylabel('HDI')\n",
    "plt.xlabel('Países')\n",
    "plt.show()"
   ]
  },
  {
   "cell_type": "code",
   "execution_count": 84,
   "metadata": {},
   "outputs": [
    {
     "data": {
      "text/html": [
       "<div>\n",
       "<style scoped>\n",
       "    .dataframe tbody tr th:only-of-type {\n",
       "        vertical-align: middle;\n",
       "    }\n",
       "\n",
       "    .dataframe tbody tr th {\n",
       "        vertical-align: top;\n",
       "    }\n",
       "\n",
       "    .dataframe thead th {\n",
       "        text-align: right;\n",
       "    }\n",
       "</style>\n",
       "<table border=\"1\" class=\"dataframe\">\n",
       "  <thead>\n",
       "    <tr style=\"text-align: right;\">\n",
       "      <th></th>\n",
       "      <th>country</th>\n",
       "      <th>2005</th>\n",
       "    </tr>\n",
       "  </thead>\n",
       "  <tbody>\n",
       "    <tr>\n",
       "      <th>0</th>\n",
       "      <td>Argentina</td>\n",
       "      <td>25.067933</td>\n",
       "    </tr>\n",
       "    <tr>\n",
       "      <th>1</th>\n",
       "      <td>Bolivia</td>\n",
       "      <td>35.548143</td>\n",
       "    </tr>\n",
       "    <tr>\n",
       "      <th>2</th>\n",
       "      <td>Brazil</td>\n",
       "      <td>15.128351</td>\n",
       "    </tr>\n",
       "    <tr>\n",
       "      <th>3</th>\n",
       "      <td>Chile</td>\n",
       "      <td>38.382370</td>\n",
       "    </tr>\n",
       "    <tr>\n",
       "      <th>4</th>\n",
       "      <td>Colombia</td>\n",
       "      <td>16.849916</td>\n",
       "    </tr>\n",
       "    <tr>\n",
       "      <th>5</th>\n",
       "      <td>Ecuador</td>\n",
       "      <td>30.904340</td>\n",
       "    </tr>\n",
       "    <tr>\n",
       "      <th>6</th>\n",
       "      <td>Paraguay</td>\n",
       "      <td>50.236974</td>\n",
       "    </tr>\n",
       "    <tr>\n",
       "      <th>7</th>\n",
       "      <td>Peru</td>\n",
       "      <td>25.089326</td>\n",
       "    </tr>\n",
       "    <tr>\n",
       "      <th>8</th>\n",
       "      <td>Uruguay</td>\n",
       "      <td>30.404020</td>\n",
       "    </tr>\n",
       "    <tr>\n",
       "      <th>9</th>\n",
       "      <td>Venezuela</td>\n",
       "      <td>39.658653</td>\n",
       "    </tr>\n",
       "    <tr>\n",
       "      <th>10</th>\n",
       "      <td>Guyana</td>\n",
       "      <td>84.622869</td>\n",
       "    </tr>\n",
       "    <tr>\n",
       "      <th>11</th>\n",
       "      <td>Suriname</td>\n",
       "      <td>30.422233</td>\n",
       "    </tr>\n",
       "  </tbody>\n",
       "</table>\n",
       "</div>"
      ],
      "text/plain": [
       "      country       2005\n",
       "0   Argentina  25.067933\n",
       "1     Bolivia  35.548143\n",
       "2      Brazil  15.128351\n",
       "3       Chile  38.382370\n",
       "4    Colombia  16.849916\n",
       "5     Ecuador  30.904340\n",
       "6    Paraguay  50.236974\n",
       "7        Peru  25.089326\n",
       "8     Uruguay  30.404020\n",
       "9   Venezuela  39.658653\n",
       "10     Guyana  84.622869\n",
       "11   Suriname  30.422233"
      ]
     },
     "execution_count": 84,
     "metadata": {},
     "output_type": "execute_result"
    }
   ],
   "source": [
    "dados_REI = pd.read_excel('Exports (p of GDP).xlsx')\n",
    "#leitura dos dados de exportação, % do PiB\n",
    "dados_GDP = dados_REI.loc[:,[\"country\",\"2005\"]]\n",
    "dados_GDP.head(20)\n",
    "#filtro das colunas\n"
   ]
  },
  {
   "cell_type": "markdown",
   "metadata": {},
   "source": [
    "Dados de % do PiB em exportação dos mesmos países."
   ]
  },
  {
   "cell_type": "code",
   "execution_count": null,
   "metadata": {},
   "outputs": [],
   "source": []
  },
  {
   "cell_type": "code",
   "execution_count": 85,
   "metadata": {},
   "outputs": [
    {
     "data": {
      "image/png": "[encoded data removed]",
      "text/plain": [
       "<Figure size 432x432 with 1 Axes>"
      ]
     },
     "metadata": {
      "needs_background": "light"
     },
     "output_type": "display_data"
    }
   ],
   "source": [
    "plot = dados_GDP.plot(kind='bar',title='GDP%',figsize=(6, 6),)\n",
    "plt.ylabel('Exports of goods and services (% of GDP))')\n",
    "plt.xlabel('Países')\n",
    "plt.show()"
   ]
  },
  {
   "cell_type": "markdown",
   "metadata": {},
   "source": [
    "# JOIN\n",
    "União dos dados coletados em uma tabela única, o MERGE."
   ]
  },
  {
   "cell_type": "code",
   "execution_count": 86,
   "metadata": {},
   "outputs": [
    {
     "data": {
      "text/html": [
       "<div>\n",
       "<style scoped>\n",
       "    .dataframe tbody tr th:only-of-type {\n",
       "        vertical-align: middle;\n",
       "    }\n",
       "\n",
       "    .dataframe tbody tr th {\n",
       "        vertical-align: top;\n",
       "    }\n",
       "\n",
       "    .dataframe thead th {\n",
       "        text-align: right;\n",
       "    }\n",
       "</style>\n",
       "<table border=\"1\" class=\"dataframe\">\n",
       "  <thead>\n",
       "    <tr style=\"text-align: right;\">\n",
       "      <th></th>\n",
       "      <th>2005</th>\n",
       "      <th>2005</th>\n",
       "    </tr>\n",
       "    <tr>\n",
       "      <th>country</th>\n",
       "      <th></th>\n",
       "      <th></th>\n",
       "    </tr>\n",
       "  </thead>\n",
       "  <tbody>\n",
       "    <tr>\n",
       "      <th>Argentina</th>\n",
       "      <td>0.765</td>\n",
       "      <td>25.067933</td>\n",
       "    </tr>\n",
       "    <tr>\n",
       "      <th>Bolivia</th>\n",
       "      <td>0.649</td>\n",
       "      <td>35.548143</td>\n",
       "    </tr>\n",
       "    <tr>\n",
       "      <th>Brazil</th>\n",
       "      <td>0.692</td>\n",
       "      <td>15.128351</td>\n",
       "    </tr>\n",
       "    <tr>\n",
       "      <th>Chile</th>\n",
       "      <td>0.779</td>\n",
       "      <td>38.382370</td>\n",
       "    </tr>\n",
       "    <tr>\n",
       "      <th>Colombia</th>\n",
       "      <td>0.675</td>\n",
       "      <td>16.849916</td>\n",
       "    </tr>\n",
       "    <tr>\n",
       "      <th>Ecuador</th>\n",
       "      <td>0.695</td>\n",
       "      <td>30.904340</td>\n",
       "    </tr>\n",
       "    <tr>\n",
       "      <th>Paraguay</th>\n",
       "      <td>0.635</td>\n",
       "      <td>50.236974</td>\n",
       "    </tr>\n",
       "    <tr>\n",
       "      <th>Peru</th>\n",
       "      <td>0.691</td>\n",
       "      <td>25.089326</td>\n",
       "    </tr>\n",
       "    <tr>\n",
       "      <th>Uruguay</th>\n",
       "      <td>0.748</td>\n",
       "      <td>30.404020</td>\n",
       "    </tr>\n",
       "    <tr>\n",
       "      <th>Venezuela</th>\n",
       "      <td>0.692</td>\n",
       "      <td>39.658653</td>\n",
       "    </tr>\n",
       "    <tr>\n",
       "      <th>Guyana</th>\n",
       "      <td>0.606</td>\n",
       "      <td>84.622869</td>\n",
       "    </tr>\n",
       "    <tr>\n",
       "      <th>Suriname</th>\n",
       "      <td>0.659</td>\n",
       "      <td>30.422233</td>\n",
       "    </tr>\n",
       "  </tbody>\n",
       "</table>\n",
       "</div>"
      ],
      "text/plain": [
       "            2005       2005\n",
       "country                    \n",
       "Argentina  0.765  25.067933\n",
       "Bolivia    0.649  35.548143\n",
       "Brazil     0.692  15.128351\n",
       "Chile      0.779  38.382370\n",
       "Colombia   0.675  16.849916\n",
       "Ecuador    0.695  30.904340\n",
       "Paraguay   0.635  50.236974\n",
       "Peru       0.691  25.089326\n",
       "Uruguay    0.748  30.404020\n",
       "Venezuela  0.692  39.658653\n",
       "Guyana     0.606  84.622869\n",
       "Suriname   0.659  30.422233"
      ]
     },
     "execution_count": 86,
     "metadata": {},
     "output_type": "execute_result"
    }
   ],
   "source": [
    "IDH_idx = dados_IDH.set_index('country')\n",
    "GDP_idx = dados_GDP.set_index('country')\n",
    "IDH_GDP = IDH_idx.join(GDP_idx, how='inner', lsuffix='_IDH', rsuffix='_GDP')\n",
    "IDH_GDP.head(12)\n",
    "#Junta os bancos de dados "
   ]
  },
  {
   "cell_type": "markdown",
   "metadata": {},
   "source": [
    "# Adicionando coluna qualitativa\n",
    "\n",
    "Agora que o MERGE foi realizado, pode-se fazer uma avaliação qualitativa dos dados. Para isso, será adicionada uma terceira coluna que indica os países que fazem parte do Mercosul, e aqueles não participantes."
   ]
  },
  {
   "cell_type": "code",
   "execution_count": 87,
   "metadata": {},
   "outputs": [
    {
     "data": {
      "text/html": [
       "<div>\n",
       "<style scoped>\n",
       "    .dataframe tbody tr th:only-of-type {\n",
       "        vertical-align: middle;\n",
       "    }\n",
       "\n",
       "    .dataframe tbody tr th {\n",
       "        vertical-align: top;\n",
       "    }\n",
       "\n",
       "    .dataframe thead th {\n",
       "        text-align: right;\n",
       "    }\n",
       "</style>\n",
       "<table border=\"1\" class=\"dataframe\">\n",
       "  <thead>\n",
       "    <tr style=\"text-align: right;\">\n",
       "      <th></th>\n",
       "      <th>2005</th>\n",
       "      <th>2005</th>\n",
       "      <th>Mercosul</th>\n",
       "    </tr>\n",
       "    <tr>\n",
       "      <th>country</th>\n",
       "      <th></th>\n",
       "      <th></th>\n",
       "      <th></th>\n",
       "    </tr>\n",
       "  </thead>\n",
       "  <tbody>\n",
       "    <tr>\n",
       "      <th>Argentina</th>\n",
       "      <td>0.765</td>\n",
       "      <td>25.067933</td>\n",
       "      <td>Participante</td>\n",
       "    </tr>\n",
       "    <tr>\n",
       "      <th>Bolivia</th>\n",
       "      <td>0.649</td>\n",
       "      <td>35.548143</td>\n",
       "      <td>Nao_Participante</td>\n",
       "    </tr>\n",
       "    <tr>\n",
       "      <th>Brazil</th>\n",
       "      <td>0.692</td>\n",
       "      <td>15.128351</td>\n",
       "      <td>Participante</td>\n",
       "    </tr>\n",
       "    <tr>\n",
       "      <th>Chile</th>\n",
       "      <td>0.779</td>\n",
       "      <td>38.382370</td>\n",
       "      <td>Nao_Participante</td>\n",
       "    </tr>\n",
       "    <tr>\n",
       "      <th>Colombia</th>\n",
       "      <td>0.675</td>\n",
       "      <td>16.849916</td>\n",
       "      <td>Nao_Participante</td>\n",
       "    </tr>\n",
       "    <tr>\n",
       "      <th>Ecuador</th>\n",
       "      <td>0.695</td>\n",
       "      <td>30.904340</td>\n",
       "      <td>Nao_Participante</td>\n",
       "    </tr>\n",
       "    <tr>\n",
       "      <th>Paraguay</th>\n",
       "      <td>0.635</td>\n",
       "      <td>50.236974</td>\n",
       "      <td>Participante</td>\n",
       "    </tr>\n",
       "    <tr>\n",
       "      <th>Peru</th>\n",
       "      <td>0.691</td>\n",
       "      <td>25.089326</td>\n",
       "      <td>Nao_Participante</td>\n",
       "    </tr>\n",
       "    <tr>\n",
       "      <th>Uruguay</th>\n",
       "      <td>0.748</td>\n",
       "      <td>30.404020</td>\n",
       "      <td>Participante</td>\n",
       "    </tr>\n",
       "    <tr>\n",
       "      <th>Venezuela</th>\n",
       "      <td>0.692</td>\n",
       "      <td>39.658653</td>\n",
       "      <td>Participante</td>\n",
       "    </tr>\n",
       "    <tr>\n",
       "      <th>Guyana</th>\n",
       "      <td>0.606</td>\n",
       "      <td>84.622869</td>\n",
       "      <td>Nao_Participante</td>\n",
       "    </tr>\n",
       "    <tr>\n",
       "      <th>Suriname</th>\n",
       "      <td>0.659</td>\n",
       "      <td>30.422233</td>\n",
       "      <td>Nao_Participante</td>\n",
       "    </tr>\n",
       "  </tbody>\n",
       "</table>\n",
       "</div>"
      ],
      "text/plain": [
       "            2005       2005          Mercosul\n",
       "country                                      \n",
       "Argentina  0.765  25.067933      Participante\n",
       "Bolivia    0.649  35.548143  Nao_Participante\n",
       "Brazil     0.692  15.128351      Participante\n",
       "Chile      0.779  38.382370  Nao_Participante\n",
       "Colombia   0.675  16.849916  Nao_Participante\n",
       "Ecuador    0.695  30.904340  Nao_Participante\n",
       "Paraguay   0.635  50.236974      Participante\n",
       "Peru       0.691  25.089326  Nao_Participante\n",
       "Uruguay    0.748  30.404020      Participante\n",
       "Venezuela  0.692  39.658653      Participante\n",
       "Guyana     0.606  84.622869  Nao_Participante\n",
       "Suriname   0.659  30.422233  Nao_Participante"
      ]
     },
     "execution_count": 87,
     "metadata": {},
     "output_type": "execute_result"
    }
   ],
   "source": [
    "IDH_GDP['Mercosul'] = 'Nao_Participante'\n",
    "lista_Mercosul = ['Brazil', 'Venezuela', 'Uruguay', 'Paraguay', 'Argentina']\n",
    "IDH_GDP.loc[lista_Mercosul, 'Mercosul'] = 'Participante'\n",
    "IDH_GDP.head(12)"
   ]
  },
  {
   "cell_type": "code",
   "execution_count": null,
   "metadata": {},
   "outputs": [],
   "source": []
  },
  {
   "cell_type": "code",
   "execution_count": null,
   "metadata": {},
   "outputs": [],
   "source": []
  }
 ],
 "metadata": {
  "kernelspec": {
   "display_name": "Python 3",
   "language": "python",
   "name": "python3"
  },
  "language_info": {
   "codemirror_mode": {
    "name": "ipython",
    "version": 3
   },
   "file_extension": ".py",
   "mimetype": "text/x-python",
   "name": "python",
   "nbconvert_exporter": "python",
   "pygments_lexer": "ipython3",
   "version": "3.7.1"
  }
 },
 "nbformat": 4,
 "nbformat_minor": 2
}
